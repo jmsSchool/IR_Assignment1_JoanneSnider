{
  "nbformat": 4,
  "nbformat_minor": 0,
  "metadata": {
    "colab": {
      "provenance": [],
      "collapsed_sections": [],
      "authorship_tag": "ABX9TyMZz3dMaca3XzyIplKSZm/d",
      "include_colab_link": true
    },
    "kernelspec": {
      "name": "python3",
      "display_name": "Python 3"
    },
    "language_info": {
      "name": "python"
    }
  },
  "cells": [
    {
      "cell_type": "markdown",
      "metadata": {
        "id": "view-in-github",
        "colab_type": "text"
      },
      "source": [
        "<a href=\"https://colab.research.google.com/github/jmsSchool/IR_Assignment1_JoanneSnider/blob/main/Question1.ipynb\" target=\"_parent\"><img src=\"https://colab.research.google.com/assets/colab-badge.svg\" alt=\"Open In Colab\"/></a>"
      ]
    },
    {
      "cell_type": "code",
      "execution_count": null,
      "metadata": {
        "id": "9ynHkDSzK8T6"
      },
      "outputs": [],
      "source": []
    },
    {
      "cell_type": "markdown",
      "source": [
        "# Exercise 1\n",
        "1. Print odd numbers in range 0 to 100\n",
        "2. Write a function that returns summation of even numbers in a range\n",
        "(start, end) and both start and end are included in the summation\n",
        "3. Define an empty list\n",
        "a. Add 10 random integer numbers in range [1,100] to your list\n",
        "b. Print the maximum number in the list\n",
        "c. Print the minimum number in the list\n",
        "d. Sort the list\n",
        "e. Randomly shuffle the list\n",
        "f. Try running the sort part of code with “Run the focused cell”\n",
        "4. Define a dictionary as: {‘a’: 1, ‘d’:4, ‘b’:2, ‘c’:3}\n",
        "a. Sort the dictionary by keys\n",
        "b. Sort the dictionary by values in descending order\n",
        "c. Add new tuple to the dictionary {‘e’: 5}\n",
        "5\n"
      ],
      "metadata": {
        "id": "qovkWVe1EllK"
      }
    },
    {
      "cell_type": "markdown",
      "source": [
        "1. Print odd numbers in range 0 to 100"
      ],
      "metadata": {
        "id": "Y-00s48vcy-5"
      }
    },
    {
      "cell_type": "code",
      "execution_count": null,
      "metadata": {
        "id": "aoeq9vjOcuFa"
      },
      "outputs": [],
      "source": [
        "# Print odd numbers in range 0 to 100\n",
        "# we know x is odd if the remainder of a division by 2 is 1\n",
        "# 0 to start is specified\n",
        "\n",
        "for x in range(0,101):\n",
        "  if( x%2 !=0):\n",
        "    print(x)\n",
        "\n"
      ]
    },
    {
      "cell_type": "markdown",
      "source": [
        "2. Write a function that returns summation of even numbers in a range\n",
        "(start, end) and both start and end are included in the summation"
      ],
      "metadata": {
        "id": "-jVvSztle_7_"
      }
    },
    {
      "cell_type": "code",
      "source": [
        "# 2. Write a function that returns summation of even numbers in a range\n",
        "\n",
        "def summation_even_numbers(start,end):\n",
        "  \n",
        "  \"\"\"\n",
        "  This function takes in two numbers and returns the summation of even numbers\n",
        "  in range [start, end].\n",
        "  ARGS:\n",
        "    @start:     start of the range\n",
        "    @end:       end of the range\n",
        "  RETURNS:\n",
        "    @summation: summation of even numbers in [start, end]\n",
        "  \"\"\"\n",
        "\n",
        "  summation = 0\n",
        "\n",
        "  for number in range(start, end+1):\n",
        "    if (number%2==0):\n",
        "      summation+=number\n",
        "  return summation\n",
        "\n",
        "summation_even_numbers(9,20)"
      ],
      "metadata": {
        "colab": {
          "base_uri": "https://localhost:8080/"
        },
        "id": "adiPz9LifBVP",
        "outputId": "c5b65b8f-6105-4052-fe4a-fad814d68718"
      },
      "execution_count": null,
      "outputs": [
        {
          "output_type": "execute_result",
          "data": {
            "text/plain": [
              "90"
            ]
          },
          "metadata": {},
          "execution_count": 4
        }
      ]
    },
    {
      "cell_type": "markdown",
      "source": [
        "3. Define an empty list<br/>\n",
        ">  a. Add 10 random integer numbers in range [1,100] to your list<br/>\n",
        ">  b. Print the maximum number in the list<br/>\n",
        ">  c. Print the minimum number in the list<br/>\n",
        ">  d. Sort the list<br/>\n",
        ">  e. Randomly shuffle the list<br/>\n",
        ">  f. Try running the sort part of code with “Run the focused cell”<br/>\n",
        "\n",
        "\n"
      ],
      "metadata": {
        "id": "AgUh0s_tgf2R"
      }
    },
    {
      "cell_type": "code",
      "source": [
        "# 3a. define an empty list. Add 10 random integer numbers in range [1,100] to your list\n",
        "\n",
        "import random\n",
        "\n",
        "myList = []\n",
        "\n",
        "for i in range(1,10):\n",
        "  myList.append(random.randint(1,101))\n",
        "\n",
        "print(myList)"
      ],
      "metadata": {
        "colab": {
          "base_uri": "https://localhost:8080/"
        },
        "id": "TRkuZNFqhkDc",
        "outputId": "982cae11-eb44-4478-9d7e-a830bb7acc3d"
      },
      "execution_count": null,
      "outputs": [
        {
          "output_type": "stream",
          "name": "stdout",
          "text": [
            "[55, 54, 50, 23, 39, 76, 5, 30, 97]\n"
          ]
        }
      ]
    },
    {
      "cell_type": "code",
      "source": [
        "# b. Print the maximum number in the list\n",
        "\n",
        "print(\"The maximum number is \",max(myList))"
      ],
      "metadata": {
        "colab": {
          "base_uri": "https://localhost:8080/"
        },
        "id": "7DE7qEWUk_iu",
        "outputId": "91353ba8-d621-4d02-bea8-279f91d2f762"
      },
      "execution_count": null,
      "outputs": [
        {
          "output_type": "stream",
          "name": "stdout",
          "text": [
            "The maximum number is  97\n"
          ]
        }
      ]
    },
    {
      "cell_type": "code",
      "source": [
        "# c. Print the minimum number in the list\n",
        "\n",
        "print(\"The minimum number is \",min(myList))"
      ],
      "metadata": {
        "colab": {
          "base_uri": "https://localhost:8080/"
        },
        "id": "NxGMr2Dul9h_",
        "outputId": "4e360b32-ad91-40ce-96d4-95bb20b72d37"
      },
      "execution_count": null,
      "outputs": [
        {
          "output_type": "stream",
          "name": "stdout",
          "text": [
            "The minimum number is  5\n"
          ]
        }
      ]
    },
    {
      "cell_type": "code",
      "source": [
        "# d. Sort the list\n",
        "\n",
        "myList.sort()\n",
        "\n",
        "print(myList)"
      ],
      "metadata": {
        "colab": {
          "base_uri": "https://localhost:8080/"
        },
        "id": "dZFePQVTnWHW",
        "outputId": "bcc5fc45-488a-4bce-9d87-cf6f6fd8f36b"
      },
      "execution_count": null,
      "outputs": [
        {
          "output_type": "stream",
          "name": "stdout",
          "text": [
            "[12, 35, 44, 63, 63, 65, 76, 94, 99]\n"
          ]
        }
      ]
    },
    {
      "cell_type": "code",
      "source": [
        "# e. Randomly shuffle the list\n",
        "\n",
        "random.shuffle(myList)\n",
        "\n",
        "print(myList)"
      ],
      "metadata": {
        "colab": {
          "base_uri": "https://localhost:8080/"
        },
        "id": "8UY78TSYoyBe",
        "outputId": "91164b53-4a1f-4fae-d568-806d76e5c6f0"
      },
      "execution_count": null,
      "outputs": [
        {
          "output_type": "stream",
          "name": "stdout",
          "text": [
            "[63, 63, 44, 76, 35, 99, 12, 65, 94]\n"
          ]
        }
      ]
    },
    {
      "cell_type": "code",
      "source": [
        "# f. Try running the sort part of code with “Run the focused cell”\n",
        "# this is a menu option Runtime --> Run the focused cell \n",
        "# it didn't really do anything different for me. "
      ],
      "metadata": {
        "id": "TQxw1evDpcgZ"
      },
      "execution_count": null,
      "outputs": []
    },
    {
      "cell_type": "markdown",
      "source": [
        "4. Define a dictionary as: {‘a’: 1, ‘d’:4, ‘b’:2, ‘c’:3}<br/>\n",
        ">a. Sort the dictionary by keys<br/>\n",
        ">b. Sort the dictionary by values in descending order<br/>\n",
        ">c. Add new tuple to the dictionary {‘e’: 5}"
      ],
      "metadata": {
        "id": "Y2mWAFz-NXuo"
      }
    },
    {
      "cell_type": "code",
      "source": [
        "#4. Define a dictionary as: {‘a’: 1, ‘d’:4, ‘b’:2, ‘c’:3}\n",
        "#   a. Sort the dictionary by keys\n",
        "\n",
        "myDictionary = {\"a\": 1, \"d\":4, \"b\":2, \"c\":3}\n",
        "print(myDictionary)\n",
        "\n",
        "# sort the dictionary by keys\n",
        "\n",
        "print(sorted(myDictionary))\n",
        "\n",
        "# tested also with {\"a\": 8, \"d\":1, \"b\":12, \"c\":4} "
      ],
      "metadata": {
        "colab": {
          "base_uri": "https://localhost:8080/"
        },
        "id": "gkaEBm2hNYOP",
        "outputId": "37f6104c-dcf8-4314-fc7d-b7a5784eb0e8"
      },
      "execution_count": null,
      "outputs": [
        {
          "output_type": "stream",
          "name": "stdout",
          "text": [
            "{'a': 1, 'd': 4, 'b': 2, 'c': 3}\n",
            "['a', 'b', 'c', 'd']\n"
          ]
        }
      ]
    },
    {
      "cell_type": "code",
      "source": [
        "# b. Sort the dictionary by values in descending order\n",
        "# also tested with {\"a\": 8, \"d\":1, \"b\":12, \"c\":4}\n",
        "\n",
        "sort_myDictionary = sorted(myDictionary.items(), key=lambda x: x[1], reverse=True)\n",
        "print(sort_myDictionary)"
      ],
      "metadata": {
        "colab": {
          "base_uri": "https://localhost:8080/"
        },
        "id": "hM6hRyGmUvov",
        "outputId": "23451aef-b3bf-4d93-9407-6b40460cc8c5"
      },
      "execution_count": null,
      "outputs": [
        {
          "output_type": "stream",
          "name": "stdout",
          "text": [
            "[('d', 4), ('c', 3), ('b', 2), ('a', 1)]\n"
          ]
        }
      ]
    },
    {
      "cell_type": "code",
      "source": [
        "# c. Add new tuple to the dictionary {‘e’: 5}\n",
        "\n",
        "myDictionary[\"e\"] = 5\n",
        "print(myDictionary)"
      ],
      "metadata": {
        "colab": {
          "base_uri": "https://localhost:8080/"
        },
        "id": "cETFxrs0W_LU",
        "outputId": "f25fa129-f49d-45de-a465-ee30836886da"
      },
      "execution_count": null,
      "outputs": [
        {
          "output_type": "stream",
          "name": "stdout",
          "text": [
            "{'a': 8, 'd': 1, 'b': 12, 'c': 4, 'e': 5}\n"
          ]
        }
      ]
    },
    {
      "cell_type": "markdown",
      "source": [
        "Exercise 2<br/>\n",
        "Go to TF-IDF Wikipedia page and copy the first 3-Sentences (above motivation)\n",
        "Test turning the debug mode on and off with command: !pdb on and !pdb off<br/>\n",
        ">a. Define a string with this paragraph as the value<br/>\n",
        ">b. Write a program that prints the number of total words and the number of \n",
        "total unique words in this paragraph<br/>\n",
        ">c. Which word has the most frequency? (write a program for this)<br/>\n",
        ">d. Read the TFIDF.txt file as the string and test if you will get the same results<br/>\n",
        ">e. Use NLTK library and remove the stop-words. What is the most frequent\n",
        "word now?<br/>"
      ],
      "metadata": {
        "id": "8fJw6ZrHrIzi"
      }
    },
    {
      "cell_type": "markdown",
      "source": [
        "Test turning the debug mode on and off with command: !pdb on and !pdb off"
      ],
      "metadata": {
        "id": "bU268QEisjSf"
      }
    },
    {
      "cell_type": "code",
      "source": [
        "# Test turning the debug mode on and off with command: !pdb on and !pdb off\n",
        "\n",
        "import pdb\n",
        "\n",
        "%pdb on\n",
        "#%pdb off"
      ],
      "metadata": {
        "id": "-qVKATS5soC8",
        "colab": {
          "base_uri": "https://localhost:8080/"
        },
        "outputId": "96bdae0e-a8df-406c-eb9d-affa0c77b545"
      },
      "execution_count": null,
      "outputs": [
        {
          "output_type": "stream",
          "name": "stdout",
          "text": [
            "Automatic pdb calling has been turned ON\n"
          ]
        }
      ]
    },
    {
      "cell_type": "markdown",
      "source": [
        "a. Define a string with this paragraph as the value"
      ],
      "metadata": {
        "id": "Y8_qPfQFrnLT"
      }
    },
    {
      "cell_type": "code",
      "execution_count": null,
      "metadata": {
        "id": "djJbFZ62rBnM",
        "colab": {
          "base_uri": "https://localhost:8080/"
        },
        "outputId": "1f14777f-e37d-4b75-ee81-88c3af2778ae"
      },
      "outputs": [
        {
          "output_type": "stream",
          "name": "stdout",
          "text": [
            "In information retrieval, tf–idf (also TF*IDF, TFIDF, TF–IDF, or Tf–idf), short for term frequency–inverse document frequency, is a numerical statistic that is intended to reflect how important a word is to a document in a collection or corpus. It is often used as a weighting factor in searches of information retrieval, text mining, and user modeling. The tf–idf value increases proportionally to the number of times a word appears in the document and is offset by the number of documents in the corpus that contain the word, which helps to adjust for the fact that some words appear more frequently in general.\n"
          ]
        }
      ],
      "source": [
        "# a. Define a string with this paragraph as the value\n",
        "\n",
        "# use this code segment for the copy paste string\n",
        "\n",
        "#tf_idf_string = \"In information retrieval, tf–idf (also TF*IDF, TFIDF, TF–IDF, or Tf–idf), short for term frequency–inverse document frequency, is a numerical statistic that is intended to reflect how important a word is to a document in a collection or corpus.[1] It is often used as a weighting factor in searches of information retrieval, text mining, and user modeling. The tf–idf value increases proportionally to the number of times a word appears in the document and is offset by the number of documents in the corpus that contain the word, which helps to adjust for the fact that some words appear more frequently in general. tf–idf is one of the most popular term-weighting schemes today. A survey conducted in 2015 showed that 83% of text-based recommender systems in digital libraries use tf–idf.[2]\"\n",
        "\n",
        "\n",
        "# use below code segment for part d\n",
        "\n",
        "newFile = open(\"/content/TFIDF.txt\", \"r\")\n",
        "tf_idf_string = newFile.read()\n",
        "\n",
        "\n",
        "print(tf_idf_string)"
      ]
    },
    {
      "cell_type": "markdown",
      "source": [
        "b. Write a program that prints the number of total words and the number of total unique words in this paragraph"
      ],
      "metadata": {
        "id": "VEP3utSlujkU"
      }
    },
    {
      "cell_type": "code",
      "source": [
        "# b. Write a program that prints the number of total words and the number of total unique words in this paragraph\n",
        "from collections import Counter\n",
        "\n",
        "# get the total numbers of words by splitting the string into smaller bits breaking at the spaces. \n",
        "\n",
        "totalWords = len(tf_idf_string.split(\" \"))\n",
        "print(\"The total number of words is\",totalWords)\n",
        "\n",
        "# then get the number of unique words\n",
        "\n",
        "words = tf_idf_string.split(\" \")\n",
        "unique_words = set(words)             # == set(['a', 'b', 'c'])\n",
        "unique_word_count = len(unique_words) # == 3\n",
        "\n",
        "print(\"The number of unique words is\",unique_word_count)\n"
      ],
      "metadata": {
        "id": "eEauF5OA1tJH",
        "colab": {
          "base_uri": "https://localhost:8080/"
        },
        "outputId": "a47d4392-cb09-4ac4-ab36-eef715505564"
      },
      "execution_count": null,
      "outputs": [
        {
          "output_type": "stream",
          "name": "stdout",
          "text": [
            "The total number of words is 102\n",
            "The number of unique words is 67\n"
          ]
        }
      ]
    },
    {
      "cell_type": "markdown",
      "source": [
        "c. Which word has the most frequency? (write a program for this)"
      ],
      "metadata": {
        "id": "0lm0kVOAMx9e"
      }
    },
    {
      "cell_type": "code",
      "source": [
        "# c. Which word has the most frequency? (write a program for this)\n",
        "\n",
        "\"\"\"\n",
        "create a dictionary with the words and counts\n",
        "do a lambda sort on the values, reverse=True\n",
        "identify the 1st pair, i.e. the one with the largest \n",
        "\"\"\"\n",
        "\n",
        "my_dict = {}\n",
        "for specific_word in words:\n",
        "    my_dict[specific_word] = my_dict.get(specific_word, 0) + 1\n",
        "#print(my_dict)\n",
        "\n",
        "sort_my_dict = sorted(my_dict.items(), key=lambda x: x[1], reverse=True)\n",
        "#print(sort_my_dict)\n",
        "\n",
        "# so at this point, sort_my_dict is a list, not a dictionary\n",
        "# i need to get the first item, the first position\n",
        "\n",
        "print(\"The most frequent word is:\", sort_my_dict[0][0],\" with a frequency of\",sort_my_dict[0][1])\n",
        "\n"
      ],
      "metadata": {
        "id": "ty6YFYLHMyVg",
        "colab": {
          "base_uri": "https://localhost:8080/"
        },
        "outputId": "9fb5e41a-4175-4531-b910-5f8412f832f7"
      },
      "execution_count": null,
      "outputs": [
        {
          "output_type": "stream",
          "name": "stdout",
          "text": [
            "The most frequent word is: a  with a frequency of 6\n"
          ]
        }
      ]
    },
    {
      "cell_type": "markdown",
      "source": [
        "e . Use NLTK library and remove the stop-words. What is the most frequent word now?<br/>\n",
        "NOTE: make sure section a above has been run first. "
      ],
      "metadata": {
        "id": "zP6BvcabZ3kb"
      }
    },
    {
      "cell_type": "code",
      "source": [
        "#e . Use NLTK library and remove the stop-words. What is the most frequent word now?\n",
        "# note: make sure section a. has been executed\n",
        "\n",
        "import nltk\n",
        "nltk.download('stopwords')\n",
        "nltk.download('punkt')\n",
        "\n",
        "from nltk.corpus import stopwords\n",
        "from nltk.tokenize import word_tokenize\n",
        "\n",
        "# in testing, it kept saying that the comma was the most frequent word. \n",
        "# replacing commas with space\n",
        "\n",
        "tf_idf_string = tf_idf_string.replace(\",\", \" \")\n",
        "\n",
        "# Convert text to lowercase and split to a list of words\n",
        "tokens = word_tokenize(tf_idf_string.lower())\n",
        "#print(\"Tokens:\", tokens)\n",
        "\n",
        "# Remove stop words\n",
        "english_stopwords = stopwords.words('english')\n",
        "tokens_wo_stopwords = [t for t in tokens if t not in english_stopwords]\n",
        "# print(\"Text without stop words:\", \" \".join(tokens_wo_stopwords))\n",
        "\n",
        "my_dict = {}\n",
        "for specific_word in tokens_wo_stopwords:\n",
        "    my_dict[specific_word] = my_dict.get(specific_word, 0) + 1\n",
        "#print(my_dict)\n",
        "\n",
        "sort_my_dict = sorted(my_dict.items(), key=lambda x: x[1], reverse=True)\n",
        "#print(sort_my_dict)\n",
        "\n",
        "# so at this point, sort_my_dict is a list, not a dictionary\n",
        "# i need to get the first item, the first position\n",
        "\n",
        "print(\"After removing stopwords, the most frequent word is:\",sort_my_dict[0][0],\"with a frequency of\",sort_my_dict[0][1])\n",
        "\n"
      ],
      "metadata": {
        "colab": {
          "base_uri": "https://localhost:8080/"
        },
        "id": "8wXgKg52T7Sr",
        "outputId": "c81796ac-7047-4824-94ad-fb6c04337e17"
      },
      "execution_count": null,
      "outputs": [
        {
          "output_type": "stream",
          "name": "stdout",
          "text": [
            "After removing stopwords, the most frequent word is: tf–idf with a frequency of 4\n"
          ]
        },
        {
          "output_type": "stream",
          "name": "stderr",
          "text": [
            "[nltk_data] Downloading package stopwords to /root/nltk_data...\n",
            "[nltk_data]   Package stopwords is already up-to-date!\n",
            "[nltk_data] Downloading package punkt to /root/nltk_data...\n",
            "[nltk_data]   Package punkt is already up-to-date!\n"
          ]
        }
      ]
    },
    {
      "cell_type": "markdown",
      "source": [
        "# Exercise 3\n",
        "Target file: quotes.tsv (tab-separated values)<br/>\n",
        "Read the TSV file with pandas library. Install the library with command: ! pip install pandas<br/>\n",
        "Answer the following questions<br/>\n",
        ">a. How many quotes are from ‘Alexandre Dumas’?<br/>\n",
        "b. Who has the longest quote? (number of words)<br/>\n",
        "c. In whose quote there is the word ‘one’? Name the author(s)<br/>\n",
        "d. What are the most and least frequent words used in all the quotes?"
      ],
      "metadata": {
        "id": "PnQEhBhHbJxT"
      }
    },
    {
      "cell_type": "code",
      "execution_count": null,
      "metadata": {
        "colab": {
          "base_uri": "https://localhost:8080/"
        },
        "id": "3I8eAl8EbGHy",
        "outputId": "b7485338-3399-4e13-cfa1-222df467223e"
      },
      "outputs": [
        {
          "output_type": "stream",
          "name": "stdout",
          "text": [
            "Looking in indexes: https://pypi.org/simple, https://us-python.pkg.dev/colab-wheels/public/simple/\n",
            "Requirement already satisfied: pandas in /usr/local/lib/python3.7/dist-packages (1.3.5)\n",
            "Requirement already satisfied: python-dateutil>=2.7.3 in /usr/local/lib/python3.7/dist-packages (from pandas) (2.8.2)\n",
            "Requirement already satisfied: pytz>=2017.3 in /usr/local/lib/python3.7/dist-packages (from pandas) (2022.2.1)\n",
            "Requirement already satisfied: numpy>=1.17.3 in /usr/local/lib/python3.7/dist-packages (from pandas) (1.21.6)\n",
            "Requirement already satisfied: six>=1.5 in /usr/local/lib/python3.7/dist-packages (from python-dateutil>=2.7.3->pandas) (1.15.0)\n"
          ]
        }
      ],
      "source": [
        "! pip install pandas\n",
        "import pandas as pd\n",
        "data = pd.read_table('quotes.tsv')\n",
        "df = pd.DataFrame(data, columns=['Author', 'Quote'])\n"
      ]
    },
    {
      "cell_type": "markdown",
      "source": [
        "a. How many quotes are from ‘Alexandre Dumas’?"
      ],
      "metadata": {
        "id": "-fjBpjj5kvYu"
      }
    },
    {
      "cell_type": "code",
      "source": [
        "# a. How many quotes are from ‘Alexandre Dumas’?\n",
        "\n",
        "for index, row in df.iterrows():\n",
        "  print(row['Author'],row['Quote'])\n",
        "\n",
        "counter = 0\n",
        "\n",
        "for index,row in df.iterrows():\n",
        "  if row['Author'] == \"Alexandre Dumas\":\n",
        "    counter+=1\n",
        "\n",
        "print(\"The number of quotes by Alexandre Dumas is:\",counter)\n"
      ],
      "metadata": {
        "id": "qXTzi8tegONt"
      },
      "execution_count": null,
      "outputs": []
    },
    {
      "cell_type": "markdown",
      "source": [
        "b. Who has the longest quote? (number of words)"
      ],
      "metadata": {
        "id": "HmhAxJmulBhP"
      }
    },
    {
      "cell_type": "code",
      "source": [
        "# b. Who has the longest quote? (number of words)\n",
        "\n",
        "longestQuoteNumber = 0\n",
        "author = \"\"\n",
        "\n",
        "for index,row in df.iterrows():\n",
        "  numberWords = len(row['Quote'].split(\" \"))\n",
        "  if numberWords > longestQuoteNumber:\n",
        "    longestQuoteNumber = numberWords\n",
        "    author = row['Author']\n",
        "\n",
        "print(\"The longest quote is from\",author,\"it has\",longestQuoteNumber,\"words.\")"
      ],
      "metadata": {
        "colab": {
          "base_uri": "https://localhost:8080/"
        },
        "id": "tkjjilCvlCAB",
        "outputId": "5bf13c41-07ef-4fed-8ccf-dee505a7d054"
      },
      "execution_count": null,
      "outputs": [
        {
          "output_type": "stream",
          "name": "stdout",
          "text": [
            "The longest quote is from Arthur Conan Doyle it has 100 words.\n"
          ]
        }
      ]
    },
    {
      "cell_type": "markdown",
      "source": [
        "c. In whose quote there is the word ‘one’? Name the author(s)"
      ],
      "metadata": {
        "id": "E2EQvQMCsVkk"
      }
    },
    {
      "cell_type": "code",
      "source": [
        "# c. In whose quote there is the word ‘one’? Name the author(s)\n",
        "\n",
        "listAuthors = []\n",
        "\n",
        "for index,row in df.iterrows():\n",
        "  words = row['Quote'].split(\" \")\n",
        "  for word in words:\n",
        "    if word == \"one\":\n",
        "      author = row['Author']\n",
        "      if author not in listAuthors:\n",
        "        listAuthors.append(author)\n",
        "\n",
        "print(\"The authors who use the word \\\"one\\\" in their quotes are:\", listAuthors)\n"
      ],
      "metadata": {
        "colab": {
          "base_uri": "https://localhost:8080/"
        },
        "id": "0p-QvIWGsW8r",
        "outputId": "5d0bba3f-5965-437d-c3d5-44fa84e1b102"
      },
      "execution_count": null,
      "outputs": [
        {
          "output_type": "stream",
          "name": "stdout",
          "text": [
            "The authors who use the word \"one\" in their quotes are: ['Agatha Christie', 'Alexandre Dumas', 'Anton Chekhov', 'Arthur Conan Doyle']\n"
          ]
        }
      ]
    },
    {
      "cell_type": "markdown",
      "source": [
        "d. What are the most and least frequent words used in all the quotes?"
      ],
      "metadata": {
        "id": "fw-KkeTgxjBG"
      }
    },
    {
      "cell_type": "code",
      "source": [
        "# d. What are the most and least frequent words used in all the quotes?\n",
        "\n",
        "from collections import Counter\n",
        "\n",
        "result = Counter()\n",
        "\n",
        "for index, row in df.iterrows():\n",
        "   words = row['Quote'].split(\" \")\n",
        "   counterWords = Counter(words)\n",
        "   result = result + counterWords\n",
        "\n",
        "sorted_by_value = dict(sorted(result.items(),key=lambda item: item[1], reverse=True))\n",
        "\n",
        "print(\"The most repeated word is \\\"\" + list(sorted_by_value.keys())[0] + \"\\\" with frequency of \" + str(list(sorted_by_value.values())[0]))\n",
        "print(\"The least repeated word is \\\"\" + list(sorted_by_value.keys())[-1] + \"\\\" with frequency of \" + str(list(sorted_by_value.values())[-1]))\n"
      ],
      "metadata": {
        "colab": {
          "base_uri": "https://localhost:8080/"
        },
        "id": "NXSmImBNxjdX",
        "outputId": "5f477bda-05b3-48d4-8132-122f4f87b29c"
      },
      "execution_count": null,
      "outputs": [
        {
          "output_type": "stream",
          "name": "stdout",
          "text": [
            "The most repeated word is \"the\" with frequency of 44\n",
            "The least repeated word is \"memory.\" with frequency of 1\n"
          ]
        }
      ]
    },
    {
      "cell_type": "markdown",
      "source": [
        "# Exercise 4\n",
        "Target file: ‘Posts_Coffee.xml’ (Snapshot of https://coffee.stackexchange.com/)<br/>\n",
        "Use the code ‘post_reader.py’ file from here:<br/>\n",
        "https://github.com/ARQMath/ARQMathCode/blob/master/Entity_Parser_Record/post_parser_record.py<br/>\n",
        "Answer the following questions:<br/>\n",
        ">a. How many questions/answers have been posted on this website?<br/>\n",
        "b. How many questions, have accepted answers?<br/>\n",
        "c. What is the highest/lowest score given to the questions?<br/>\n",
        "d. What is the average number of words in answers?<br/>\n",
        "e. In which year, the highest number of posts (questions/answers) were posted?"
      ],
      "metadata": {
        "id": "6nu5HQ3lwRh7"
      }
    },
    {
      "cell_type": "code",
      "execution_count": null,
      "metadata": {
        "id": "ikArvklqwNwT"
      },
      "outputs": [],
      "source": [
        "from post_parser_record import PostParserRecord\n",
        "post_reader = PostParserRecord(\"Posts_Coffee.xml\")"
      ]
    },
    {
      "cell_type": "markdown",
      "source": [
        "a. How many questions/answers have been posted on this website?"
      ],
      "metadata": {
        "id": "vhmJ4_Kn0iem"
      }
    },
    {
      "cell_type": "code",
      "source": [
        "# a. How many questions/answers have been posted on this website?\n",
        "\n",
        "number_questions = len(post_reader.map_questions.keys())\n",
        "number_answers = len(post_reader.map_answers.keys())\n",
        "\n",
        "print(number_questions)\n",
        "print(number_answers)"
      ],
      "metadata": {
        "colab": {
          "base_uri": "https://localhost:8080/"
        },
        "id": "Ftzuw9GdIVPs",
        "outputId": "536191a7-4b88-4593-f9e4-7a10f930782c"
      },
      "execution_count": null,
      "outputs": [
        {
          "output_type": "stream",
          "name": "stdout",
          "text": [
            "1370\n",
            "1280\n"
          ]
        }
      ]
    },
    {
      "cell_type": "markdown",
      "source": [
        "b. How many questions, have accepted answers?"
      ],
      "metadata": {
        "id": "aq1dhIh4PkDz"
      }
    },
    {
      "cell_type": "code",
      "source": [
        "# b. How many questions, have accepted answers?\n",
        "\n",
        "total_number_questions = len(post_reader.map_questions.keys())\n",
        "number_questions_with_accepted_answer = 0\n",
        "for question_id in post_reader.map_questions.keys():\n",
        "  question = post_reader.map_questions[question_id]\n",
        "  if question.accepted_answer_id is not None:\n",
        "    number_questions_with_accepted_answer+=1\n",
        "\n",
        "print(\"Out of \"+str(total_number_questions)+\" questions, \"+str(number_questions_with_accepted_answer) +\" have an accepted answer\")"
      ],
      "metadata": {
        "colab": {
          "base_uri": "https://localhost:8080/"
        },
        "id": "-d79rgSOBHtI",
        "outputId": "c6714f8e-75b6-4b18-a7a0-d9168c604b90"
      },
      "execution_count": null,
      "outputs": [
        {
          "output_type": "stream",
          "name": "stdout",
          "text": [
            "Out of 1370 questions, 651 have accepted answer\n"
          ]
        }
      ]
    },
    {
      "cell_type": "markdown",
      "source": [
        "c. What is the highest/lowest score given to the questions?\n"
      ],
      "metadata": {
        "id": "nasR3fJjPo3N"
      }
    },
    {
      "cell_type": "code",
      "source": [
        "# c. What is the highest/lowest score given to the questions?\n",
        "\n",
        "high_score = 0\n",
        "low_score = 0\n",
        "\n",
        "for question_id in post_reader.map_questions:\n",
        "  question = post_reader.map_questions[question_id]\n",
        "  score = question.score\n",
        "  #print(score)\n",
        "  if score > high_score:\n",
        "    high_score = score\n",
        "  if score < low_score:\n",
        "    low_score = score\n",
        "\n",
        "print(\"The highest score is: \",high_score)\n",
        "print(\"The lowest score is: \",low_score)\n"
      ],
      "metadata": {
        "colab": {
          "base_uri": "https://localhost:8080/"
        },
        "id": "W9N9wGiBDqp9",
        "outputId": "497c9111-48a6-427a-c4e1-21cfb76a6a21"
      },
      "execution_count": null,
      "outputs": [
        {
          "output_type": "stream",
          "name": "stdout",
          "text": [
            "The highest score is:  66\n",
            "The lowest score is:  -3\n"
          ]
        }
      ]
    },
    {
      "cell_type": "markdown",
      "source": [
        "d. What is the average number of words in answers?"
      ],
      "metadata": {
        "id": "_qWLmseIPsNV"
      }
    },
    {
      "cell_type": "code",
      "source": [
        "# d. What is the average number of words in answers?\n",
        "\n",
        "number_answers = len(post_reader.map_just_answers.keys())\n",
        "\n",
        "number_words = 0\n",
        "\n",
        "for answer_id in post_reader.map_just_answers:\n",
        "  answer = post_reader.map_just_answers[answer_id]\n",
        "  number_words += len(answer.body.split(\" \"))\n",
        "\n",
        "print(\"The average number of words in each answer is:\",number_words/number_answers)"
      ],
      "metadata": {
        "colab": {
          "base_uri": "https://localhost:8080/"
        },
        "id": "Qo5JvNpJGg3Z",
        "outputId": "34a01ccf-aaaa-4d83-a27e-b55ea15e233a"
      },
      "execution_count": null,
      "outputs": [
        {
          "output_type": "stream",
          "name": "stdout",
          "text": [
            "The average number of words in each answer is: 157.08919319022945\n"
          ]
        }
      ]
    },
    {
      "cell_type": "markdown",
      "source": [
        "e. In which year, the highest number of posts (questions/answers) were posted?"
      ],
      "metadata": {
        "id": "RvsScgenPxm1"
      }
    },
    {
      "cell_type": "code",
      "source": [
        "# e. In which year, the highest number of posts (questions/answers) were posted?\n",
        "\n",
        "dict_year_post = {}\n",
        "\n",
        "for question_id in post_reader.map_questions:\n",
        "  question = post_reader.map_questions[question_id]\n",
        "  year = question.creation_date.split(\"-\")[0]\n",
        "  #print(year)\n",
        "\n",
        "  if year in dict_year_post:\n",
        "    dict_year_post[year] += 1\n",
        "  else:\n",
        "    dict_year_post[year] = 1\n",
        "\n",
        "for answer_id in post_reader.map_just_answers:\n",
        "  answer = post_reader.map_just_answers[answer_id]\n",
        "  year = answer.creation_date.split(\"-\")[0]\n",
        "\n",
        "  if year in dict_year_post:\n",
        "    dict_year_post[year] += 1\n",
        "  else:\n",
        "    dict_year_post[year] = 1\n",
        "\n",
        "for year in dict_year_post:\n",
        "  print(year, \":\", dict_year_post[year])"
      ],
      "metadata": {
        "colab": {
          "base_uri": "https://localhost:8080/"
        },
        "id": "ZuHoOZVdJjgV",
        "outputId": "220a55a1-b86a-4fe1-d131-ec086090345e"
      },
      "execution_count": null,
      "outputs": [
        {
          "output_type": "stream",
          "name": "stdout",
          "text": [
            "2015 : 1203\n",
            "2016 : 772\n",
            "2017 : 562\n",
            "2018 : 521\n",
            "2019 : 364\n",
            "2020 : 307\n",
            "2021 : 261\n",
            "2022 : 82\n"
          ]
        }
      ]
    },
    {
      "cell_type": "markdown",
      "source": [
        "# Exercise 5\n",
        "Use NumPy and Matplotlib libraries to draw the chart from the previous session<br/>\n",
        "\n",
        ">R 0.00 0.00 0.00 0.25 0.5 0.5 0.5 0.75 0.75 1.00<br/>\n",
        "P 0.00 0.00 0.00 0.25 0.40 0.33 0.29 0.38 0.33 0.40<br/>\n",
        "R 0.25 0.25 0.25 0.50 0.50 0.75 0.75 0.75 1.00 1.00<br/>\n",
        "P 1.00 0.50 0.33 0.50 0.40 0.5 0.43 0.38 0.44 0.40\n"
      ],
      "metadata": {
        "id": "JzIYPsiDQO0k"
      }
    },
    {
      "cell_type": "code",
      "execution_count": null,
      "metadata": {
        "colab": {
          "base_uri": "https://localhost:8080/"
        },
        "id": "plOiWucUP7Mj",
        "outputId": "1bd3cacb-2e08-433b-e49b-897881415726"
      },
      "outputs": [
        {
          "output_type": "stream",
          "name": "stdout",
          "text": [
            "Looking in indexes: https://pypi.org/simple, https://us-python.pkg.dev/colab-wheels/public/simple/\n",
            "Requirement already satisfied: matplotlib in /usr/local/lib/python3.7/dist-packages (3.2.2)\n",
            "Requirement already satisfied: kiwisolver>=1.0.1 in /usr/local/lib/python3.7/dist-packages (from matplotlib) (1.4.4)\n",
            "Requirement already satisfied: cycler>=0.10 in /usr/local/lib/python3.7/dist-packages (from matplotlib) (0.11.0)\n",
            "Requirement already satisfied: numpy>=1.11 in /usr/local/lib/python3.7/dist-packages (from matplotlib) (1.21.6)\n",
            "Requirement already satisfied: pyparsing!=2.0.4,!=2.1.2,!=2.1.6,>=2.0.1 in /usr/local/lib/python3.7/dist-packages (from matplotlib) (3.0.9)\n",
            "Requirement already satisfied: python-dateutil>=2.1 in /usr/local/lib/python3.7/dist-packages (from matplotlib) (2.8.2)\n",
            "Requirement already satisfied: typing-extensions in /usr/local/lib/python3.7/dist-packages (from kiwisolver>=1.0.1->matplotlib) (4.1.1)\n",
            "Requirement already satisfied: six>=1.5 in /usr/local/lib/python3.7/dist-packages (from python-dateutil>=2.1->matplotlib) (1.15.0)\n"
          ]
        }
      ],
      "source": [
        "pip install matplotlib"
      ]
    },
    {
      "cell_type": "code",
      "source": [
        "import matplotlib.pyplot as plt\n",
        "import numpy as np\n",
        "\n",
        "xpoints_series1 = np.array([0.00, 0.00, 0.00, 0.25, 0.5, 0.5, 0.5, 0.75, 0.75, 1.00])\n",
        "ypoints_series1 = np.array([0.00, 0.00, 0.00, 0.25, 0.40, 0.33, 0.29, 0.38, 0.33, 0.40])\n",
        "\n",
        "xpoints_series2 = np.array([0.25, 0.25, 0.25, 0.50, 0.50, 0.75, 0.75, 0.75, 1.00, 1.00])\n",
        "ypoints_series2 = np.array([1.00, 0.50, 0.33, 0.50, 0.40, 0.5, 0.43, 0.38, 0.44, 0.40])\n",
        "\n",
        "plt.plot(xpoints_series1, ypoints_series1, marker = '.')\n",
        "plt.plot(xpoints_series2, ypoints_series2, '.-m')\n",
        "\n",
        "plt.xlabel(\"Recall\")\n",
        "plt.ylabel(\"Precision\")\n",
        "\n",
        "plt.axis([0,1,0,1])\n",
        "\n",
        "plt.grid()\n",
        "\n",
        "plt.show()\n",
        "\n",
        "\n"
      ],
      "metadata": {
        "colab": {
          "base_uri": "https://localhost:8080/",
          "height": 283
        },
        "id": "sUMP2FVpSlKW",
        "outputId": "05c49033-243c-48f9-a80d-2a2fcc508bae"
      },
      "execution_count": null,
      "outputs": [
        {
          "output_type": "display_data",
          "data": {
            "text/plain": [
              "<Figure size 432x288 with 1 Axes>"
            ],
            "image/png": "[encoded data removed]"
          },
          "metadata": {
            "needs_background": "light"
          }
        }
      ]
    }
  ]
}